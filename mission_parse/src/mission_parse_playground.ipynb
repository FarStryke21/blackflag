{
 "cells": [
  {
   "attachments": {},
   "cell_type": "markdown",
   "metadata": {},
   "source": [
    "## Mission Parse Playground"
   ]
  },
  {
   "cell_type": "code",
   "execution_count": 6,
   "metadata": {},
   "outputs": [],
   "source": [
    "import numpy as np\n",
    "import pandas as pd\n",
    "import os"
   ]
  },
  {
   "attachments": {},
   "cell_type": "markdown",
   "metadata": {},
   "source": [
    "Geting athe data from one of the sample files"
   ]
  },
  {
   "cell_type": "code",
   "execution_count": 7,
   "metadata": {},
   "outputs": [
    {
     "name": "stdout",
     "output_type": "stream",
     "text": [
      " AV3 0, CB B2 U, DV3 1, GV1 270, HV2 135, 400\n"
     ]
    }
   ],
   "source": [
    "filedirectory = '/home/aman/catkin_ws/src/blackflag/mission_parse/samples/mission_files'\n",
    "filename = 'test.txt'\n",
    "\n",
    "filepath = os.path.join(filedirectory,filename)\n",
    "mission = open(filepath, 'r+')\n",
    "mission_data = mission.readline()\n",
    "print(mission_data)"
   ]
  },
  {
   "attachments": {},
   "cell_type": "markdown",
   "metadata": {},
   "source": [
    "Seperate missions into individual data segments"
   ]
  },
  {
   "cell_type": "code",
   "execution_count": 8,
   "metadata": {},
   "outputs": [
    {
     "name": "stdout",
     "output_type": "stream",
     "text": [
      "['AV3 0', 'CB B2 U', 'DV3 1', 'GV1 270', 'HV2 135']\n",
      "400\n"
     ]
    }
   ],
   "source": [
    "segments = mission_data.split(\",\")\n",
    "segments = [segment.strip() for segment in segments]\n",
    "time = segments[-1]\n",
    "segments = segments[0:-1]\n",
    "print(segments)\n",
    "print(time)"
   ]
  },
  {
   "cell_type": "code",
   "execution_count": 9,
   "metadata": {},
   "outputs": [
    {
     "name": "stdout",
     "output_type": "stream",
     "text": [
      "[['A', 'Stopcock Valve', 0], ['C', 'Breaker Box', [0, 0, 1]], ['D', 'Stopcock Valve', 1], ['G', 'Gate Valve', 270], ['H', 'Large Valve', 135]]\n"
     ]
    }
   ],
   "source": [
    "feature_map = {'V1':'Gate Valve', 'V2':'Large Valve', 'V3':'Stopcock Valve', 'A':'Breaker Box', 'B':'Breaker Box'}\n",
    "\n",
    "parsed_command = []\n",
    "\n",
    "for segment in segments:\n",
    "    command = []\n",
    "    command.append(segment[0])\n",
    "    feature = segment[1] if segment[1]=='A' or segment[1] == 'B' else segment[1:3]\n",
    "    command.append(feature_map[feature])\n",
    "    \n",
    "    if feature=='A' or feature=='B':\n",
    "        info = segment.split(\" \")\n",
    "        button = [0,0,0]\n",
    "        info_button = 1 if info[2] == 'U' else -1\n",
    "        button[int(info[1][1])] = info_button\n",
    "        command.append(button)\n",
    "    else:\n",
    "        info = segment.split(\" \")\n",
    "        command.append(int(info[1]))\n",
    "    parsed_command.append(command)\n",
    "\n",
    "print(parsed_command)"
   ]
  },
  {
   "attachments": {},
   "cell_type": "markdown",
   "metadata": {},
   "source": [
    "Create Function out of this"
   ]
  },
  {
   "cell_type": "code",
   "execution_count": 9,
   "metadata": {},
   "outputs": [],
   "source": [
    "def parse_mission(filename):\n",
    "    # Store mission files in the directory below\n",
    "    filedirectory = '/home/aman/catkin_ws/src/blackflag/mission_parse/samples/mission_files'\n",
    "    \n",
    "    filepath = os.path.join(filedirectory,filename)\n",
    "    mission = open(filepath, 'r+')\n",
    "    mission_data = mission.readline()\n",
    "\n",
    "    segments = mission_data.split(\",\")\n",
    "    segments = [segment.strip() for segment in segments]\n",
    "    time = int(segments[-1])\n",
    "    segments = segments[0:-1]\n",
    "\n",
    "    feature_map = {'V1':'Gate Valve', 'V2':'Large Valve', 'V3':'Stopcock Valve', 'A':'Breaker Box', 'B':'Breaker Box'}\n",
    "\n",
    "    parsed_command = []\n",
    "\n",
    "    for segment in segments:\n",
    "        command = []\n",
    "        command.append(segment[0])\n",
    "        feature = segment[1] if segment[1]=='A' or segment[1] == 'B' else segment[1:3]\n",
    "        command.append(feature_map[feature])\n",
    "        if feature=='A' or feature=='B':\n",
    "            info = segment.split(\" \")\n",
    "            button = [0,0,0]\n",
    "            info_button = 1 if info[2] == 'U' else -1\n",
    "            button[int(info[1][1])-1] = info_button\n",
    "            command.append(button)\n",
    "        else:\n",
    "            info = segment.split(\" \")\n",
    "            command.append(int(info[1]))\n",
    "        parsed_command.append(command)\n",
    "        \n",
    "    parsed_command = sorted(parsed_command, key = lambda x: x[0])\n",
    "    return parsed_command, time\n",
    "\n",
    "\n",
    "def encode(plan):\n",
    "    code = [task[0] for task in plan]\n",
    "    encoded_plan = '00000000'\n",
    "    ch = ['A', 'B', 'C', 'D', 'E', 'F', 'G', 'H']\n",
    "    for i in range(0,8):\n",
    "        if ch[i] in code:\n",
    "            encoded_plan = encoded_plan[:i]+'1'+encoded_plan[i+1:]\n",
    "                \n",
    "    return encoded_plan"
   ]
  },
  {
   "cell_type": "code",
   "execution_count": 13,
   "metadata": {},
   "outputs": [
    {
     "name": "stdout",
     "output_type": "stream",
     "text": [
      "File Name = hard.txt\n",
      "['A', 'Gate Valve', 180]\n",
      "['B', 'Large Valve', 180]\n",
      "['C', 'Gate Valve', 270]\n",
      "['D', 'Breaker Box', [0, 0, -1]]\n",
      "['D', 'Breaker Box', [0, 1, 0]]\n",
      "['E', 'Stopcock Valve', 1]\n",
      "['F', 'Stopcock Valve', 1]\n",
      "['H', 'Breaker Box', [1, 0, 0]]\n",
      "Time = 610 secs\n",
      "Encoded Plan : 11111101\n",
      "\n",
      "File Name = repeat.txt\n",
      "['B', 'Large Valve', 0]\n",
      "['B', 'Large Valve', 180]\n",
      "['E', 'Stopcock Valve', 1]\n",
      "Time = 220 secs\n",
      "Encoded Plan : 01001000\n",
      "\n",
      "File Name = single_station.txt\n",
      "['B', 'Large Valve', 0]\n",
      "Time = 80 secs\n",
      "Encoded Plan : 01000000\n",
      "\n",
      "File Name = all_stations.txt\n",
      "['A', 'Gate Valve', 90]\n",
      "['B', 'Large Valve', 270]\n",
      "['C', 'Gate Valve', 90]\n",
      "['D', 'Breaker Box', [1, 0, 0]]\n",
      "['E', 'Stopcock Valve', 1]\n",
      "['F', 'Stopcock Valve', 1]\n",
      "['G', 'Breaker Box', [0, -1, 0]]\n",
      "Time = 560 secs\n",
      "Encoded Plan : 11111110\n",
      "\n",
      "File Name = sample.txt\n",
      "['B', 'Large Valve', 180]\n",
      "['C', 'Gate Valve', 90]\n",
      "['D', 'Breaker Box', [0, -1, 0]]\n",
      "['E', 'Stopcock Valve', 0]\n",
      "['F', 'Stopcock Valve', 0]\n",
      "Time = 400 secs\n",
      "Encoded Plan : 01111100\n",
      "\n",
      "['Gate Valve:180', 'Large Valve:180', 'Gate Valve:270', 'Breaker Box:[0, 0, -1]', 'Breaker Box:[0, 1, 0]', 'Stopcock Valve:1', 'Stopcock Valve:1', 'Breaker Box:[1, 0, 0]', 'Large Valve:0', 'Large Valve:180', 'Stopcock Valve:1', 'Large Valve:0', 'Gate Valve:90', 'Large Valve:270', 'Gate Valve:90', 'Breaker Box:[1, 0, 0]', 'Stopcock Valve:1', 'Stopcock Valve:1', 'Breaker Box:[0, -1, 0]', 'Large Valve:180', 'Gate Valve:90', 'Breaker Box:[0, -1, 0]', 'Stopcock Valve:0', 'Stopcock Valve:0']\n"
     ]
    }
   ],
   "source": [
    "#Test\n",
    "message_data = []\n",
    "for file in os.listdir(filedirectory):\n",
    "    print(f'File Name = {file}')\n",
    "    \n",
    "    parsed_command, time = parse_mission(file)\n",
    "    encoded = encode(parsed_command)\n",
    "    for task in parsed_command:\n",
    "        print(task)\n",
    "        message_data.append(str(task[1])+\":\"+str(task[2]))\n",
    "    print(f'Time = {time} secs')\n",
    "    print(f'Encoded Plan : {encoded}\\n')\n",
    "print(message_data)"
   ]
  },
  {
   "cell_type": "markdown",
   "metadata": {},
   "source": []
  }
 ],
 "metadata": {
  "kernelspec": {
   "display_name": "Python 3",
   "language": "python",
   "name": "python3"
  },
  "language_info": {
   "codemirror_mode": {
    "name": "ipython",
    "version": 3
   },
   "file_extension": ".py",
   "mimetype": "text/x-python",
   "name": "python",
   "nbconvert_exporter": "python",
   "pygments_lexer": "ipython3",
   "version": "3.8.10"
  },
  "orig_nbformat": 4
 },
 "nbformat": 4,
 "nbformat_minor": 2
}
