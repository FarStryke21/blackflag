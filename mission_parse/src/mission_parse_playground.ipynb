{
 "cells": [
  {
   "attachments": {},
   "cell_type": "markdown",
   "metadata": {},
   "source": [
    "## Mission Parse Playground"
   ]
  },
  {
   "cell_type": "code",
   "execution_count": 1,
   "metadata": {},
   "outputs": [],
   "source": [
    "import numpy as np\n",
    "import pandas as pd\n",
    "import os"
   ]
  },
  {
   "attachments": {},
   "cell_type": "markdown",
   "metadata": {},
   "source": [
    "Geting athe data from one of the sample files"
   ]
  },
  {
   "cell_type": "code",
   "execution_count": 4,
   "metadata": {},
   "outputs": [
    {
     "name": "stdout",
     "output_type": "stream",
     "text": [
      "AV1 90, BV2 270, CV1 90, DA B1 U, EV3 1, FV3 1, GB B2 D, 560\n"
     ]
    }
   ],
   "source": [
    "filedirectory = '/home/mechatronics/catkin_ws/src/blackflag/mission_parse/samples/mission_files'\n",
    "filename = 'all_stations.txt'\n",
    "\n",
    "filepath = os.path.join(filedirectory,filename)\n",
    "mission = open(filepath, 'r+')\n",
    "mission_data = mission.readline()\n",
    "print(mission_data)"
   ]
  },
  {
   "attachments": {},
   "cell_type": "markdown",
   "metadata": {},
   "source": [
    "Seperate missions into individual data segments"
   ]
  },
  {
   "cell_type": "code",
   "execution_count": 10,
   "metadata": {},
   "outputs": [
    {
     "name": "stdout",
     "output_type": "stream",
     "text": [
      "['AV1 90', 'BV2 270', 'CV1 90', 'DA B1 U', 'EV3 1', 'FV3 1', 'GB B2 D']\n",
      "560\n"
     ]
    }
   ],
   "source": [
    "segments = mission_data.split(\",\")\n",
    "segments = [segment.strip() for segment in segments]\n",
    "time = segments[-1]\n",
    "segments = segments[0:-1]\n",
    "print(segments)\n",
    "print(time)"
   ]
  },
  {
   "cell_type": "code",
   "execution_count": 12,
   "metadata": {},
   "outputs": [
    {
     "name": "stdout",
     "output_type": "stream",
     "text": [
      "[['A', 'Gate Valve', 90], ['B', 'Large Valve', 270], ['C', 'Gate Valve', 90], ['D', 'Breaker Box', [0, 1, 0]], ['E', 'Stopcock Valve', 1], ['F', 'Stopcock Valve', 1], ['G', 'Breaker Box', [0, 0, -1]]]\n"
     ]
    }
   ],
   "source": [
    "feature_map = {'V1':'Gate Valve', 'V2':'Large Valve', 'V3':'Stopcock Valve', 'A':'Breaker Box', 'B':'Breaker Box'}\n",
    "\n",
    "parsed_command = []\n",
    "\n",
    "for segment in segments:\n",
    "    command = []\n",
    "    command.append(segment[0])\n",
    "    feature = segment[1] if segment[1]=='A' or segment[1] == 'B' else segment[1:3]\n",
    "    command.append(feature_map[feature])\n",
    "    if feature=='A' or feature=='B':\n",
    "        info = segment.split(\" \")\n",
    "        button = [0,0,0]\n",
    "        info_button = 1 if info[2] == 'U' else -1\n",
    "        button[int(info[1][1])] = info_button\n",
    "        command.append(button)\n",
    "    else:\n",
    "        info = segment.split(\" \")\n",
    "        command.append(int(info[1]))\n",
    "    parsed_command.append(command)\n",
    "\n",
    "print(parsed_command)"
   ]
  },
  {
   "attachments": {},
   "cell_type": "markdown",
   "metadata": {},
   "source": [
    "Create Function out of this"
   ]
  },
  {
   "cell_type": "code",
   "execution_count": 8,
   "metadata": {},
   "outputs": [],
   "source": [
    "def parse_mission(filename):\n",
    "    # Store mission files in the directory below\n",
    "    filedirectory = '/home/mechatronics/catkin_ws/src/blackflag/mission_parse/samples/mission_files'\n",
    "    \n",
    "    filepath = os.path.join(filedirectory,filename)\n",
    "    mission = open(filepath, 'r+')\n",
    "    mission_data = mission.readline()\n",
    "\n",
    "    segments = mission_data.split(\",\")\n",
    "    segments = [segment.strip() for segment in segments]\n",
    "    time = int(segments[-1])\n",
    "    segments = segments[0:-1]\n",
    "\n",
    "    feature_map = {'V1':'Gate Valve', 'V2':'Large Valve', 'V3':'Stopcock Valve', 'A':'Breaker Box', 'B':'Breaker Box'}\n",
    "\n",
    "    parsed_command = []\n",
    "\n",
    "    for segment in segments:\n",
    "        command = []\n",
    "        command.append(segment[0])\n",
    "        feature = segment[1] if segment[1]=='A' or segment[1] == 'B' else segment[1:3]\n",
    "        command.append(feature_map[feature])\n",
    "        if feature=='A' or feature=='B':\n",
    "            info = segment.split(\" \")\n",
    "            button = [0,0,0]\n",
    "            info_button = 1 if info[2] == 'U' else -1\n",
    "            button[int(info[1][1])-1] = info_button\n",
    "            command.append(button)\n",
    "        else:\n",
    "            info = segment.split(\" \")\n",
    "            command.append(int(info[1]))\n",
    "        parsed_command.append(command)\n",
    "        \n",
    "    parsed_command = sorted(parsed_command, key = lambda x: x[0])\n",
    "    return parsed_command, time\n",
    "\n",
    "\n",
    "def encode(plan):\n",
    "    code = [task[0] for task in plan]\n",
    "    encoded_plan = '00000000'\n",
    "    ch = ['A', 'B', 'C', 'D', 'E', 'F', 'G', 'H']\n",
    "    for i in range(0,8):\n",
    "        if ch[i] in code:\n",
    "            encoded_plan = encoded_plan[:i]+'1'+encoded_plan[i+1:]\n",
    "                \n",
    "    return encoded_plan"
   ]
  },
  {
   "cell_type": "code",
   "execution_count": 10,
   "metadata": {},
   "outputs": [
    {
     "name": "stdout",
     "output_type": "stream",
     "text": [
      "File Name = single_station.txt\n",
      "['B', 'Large Valve', 0]\n",
      "Time = 80 secs\n",
      "Encoded Plan : 01000000\n",
      "\n",
      "File Name = sample.txt\n",
      "['B', 'Large Valve', 180]\n",
      "['C', 'Gate Valve', 90]\n",
      "['D', 'Breaker Box', [0, -1, 0]]\n",
      "['E', 'Stopcock Valve', 0]\n",
      "['F', 'Stopcock Valve', 0]\n",
      "Time = 400 secs\n",
      "Encoded Plan : 01111100\n",
      "\n",
      "File Name = hard.txt\n",
      "['A', 'Gate Valve', 180]\n",
      "['B', 'Large Valve', 180]\n",
      "['C', 'Gate Valve', 270]\n",
      "['D', 'Breaker Box', [0, 0, -1]]\n",
      "['D', 'Breaker Box', [0, 1, 0]]\n",
      "['E', 'Stopcock Valve', 1]\n",
      "['F', 'Stopcock Valve', 1]\n",
      "['H', 'Breaker Box', [1, 0, 0]]\n",
      "Time = 610 secs\n",
      "Encoded Plan : 11111101\n",
      "\n",
      "File Name = all_stations.txt\n",
      "['A', 'Gate Valve', 90]\n",
      "['B', 'Large Valve', 270]\n",
      "['C', 'Gate Valve', 90]\n",
      "['D', 'Breaker Box', [1, 0, 0]]\n",
      "['E', 'Stopcock Valve', 1]\n",
      "['F', 'Stopcock Valve', 1]\n",
      "['G', 'Breaker Box', [0, -1, 0]]\n",
      "Time = 560 secs\n",
      "Encoded Plan : 11111110\n",
      "\n",
      "File Name = repeat.txt\n",
      "['B', 'Large Valve', 0]\n",
      "['B', 'Large Valve', 180]\n",
      "['E', 'Stopcock Valve', 1]\n",
      "Time = 220 secs\n",
      "Encoded Plan : 01001000\n",
      "\n"
     ]
    }
   ],
   "source": [
    "#Test\n",
    "for file in os.listdir(filedirectory):\n",
    "    print(f'File Name = {file}')\n",
    "    \n",
    "    parsed_command, time = parse_mission(file)\n",
    "    encoded = encode(parsed_command)\n",
    "    for task in parsed_command:\n",
    "        print(task)\n",
    "    print(f'Time = {time} secs')\n",
    "    print(f'Encoded Plan : {encoded}\\n')"
   ]
  },
  {
   "cell_type": "markdown",
   "metadata": {},
   "source": []
  }
 ],
 "metadata": {
  "kernelspec": {
   "display_name": "Python 3",
   "language": "python",
   "name": "python3"
  },
  "language_info": {
   "codemirror_mode": {
    "name": "ipython",
    "version": 3
   },
   "file_extension": ".py",
   "mimetype": "text/x-python",
   "name": "python",
   "nbconvert_exporter": "python",
   "pygments_lexer": "ipython3",
   "version": "3.6.9"
  },
  "orig_nbformat": 4
 },
 "nbformat": 4,
 "nbformat_minor": 2
}
